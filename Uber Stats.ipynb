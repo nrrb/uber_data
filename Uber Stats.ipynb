{
 "cells": [
  {
   "cell_type": "markdown",
   "id": "d671747f-4919-4fe6-b657-078b88eace28",
   "metadata": {},
   "source": [
    "# Uber Stats\n",
    "\n",
    "I've driven over 4000 passenger trips for Uber, and now I'm curious about questions I can answer with the data on those trips. \n",
    "\n",
    "<img src=\"./images/uber_profile.jpg\" alt=\"Uber Trips Count\" />\n",
    "\n",
    "Although the data is not directly made available to drivers, I peeked under the hood of the Uber Drivers site, found the data request, and wrote a scraper to download all trip data to JSON:\n",
    "\n",
    "<img src=\"./images/uber_scraping.png\" alt=\"Google Developer Tools - Network Console - API Request for Uber Driver Activity\" />\n",
    "\n",
    "### Questions for Uber Passengers/Riders:\n",
    "\n",
    "1. **Ride Availability and Popular Routes**:\n",
    "   - What are the most common routes (ZIP code to ZIP code) that you drive? How does this information reflect on ride availability in certain areas?\n",
    "   - Are there specific ZIP codes with higher frequency of pickups or dropoffs during certain times? This could indicate busy areas and times for riders.\n",
    "\n",
    "2. **Cost and Distance Analysis**:\n",
    "   - What is the average cost per mile or per minute for different ride types? This could help riders understand pricing better.\n",
    "   - How does the cost of a trip vary by distance or duration? Are there patterns that might suggest more cost-effective options for riders?\n",
    "\n",
    "3. **Ride Type Preferences**:\n",
    "   - Which ride types are most popular in your area? Do certain ZIP codes favor specific ride types, like UberX Share or Comfort?\n",
    "   - How does the popularity of ride types change over time, and what might this suggest about rider preferences?\n",
    "\n",
    "4. **Timing and Convenience**:\n",
    "   - What are the most and least busy times of day for trips? This could help riders decide when to request a ride for the shortest wait times.\n",
    "   - Is there a noticeable difference in trip duration during peak hours versus off-peak hours? How does this affect the rider experience?\n",
    "\n",
    "5. **Tip Behavior Insights**:\n",
    "   - How often do riders tip, and how does the tip amount vary by ride type and trip characteristics (like distance or time of day)?\n",
    "   - Are there trends in tipping behavior that could inform riders about what others are tipping for similar rides?"
   ]
  },
  {
   "cell_type": "code",
   "execution_count": 2,
   "id": "e4d5807f-90b6-4012-b9ae-a66ef1684c3a",
   "metadata": {},
   "outputs": [
    {
     "name": "stdout",
     "output_type": "stream",
     "text": [
      "                                   uuid       date      time  \\\n",
      "0  d3096d6c-02bd-4f8e-855b-117588b27910 2023-01-15  13:05:57   \n",
      "\n",
      "            timestamp     day  day_of_week sortable_day_of_week  season  \\\n",
      "0 2023-01-15 19:05:57  Sunday            6           6 - Sunday  Winter   \n",
      "\n",
      "      type  earnings  ...  surge  duration  distance  \\\n",
      "0  Comfort     10.72  ...    0.0       956       3.9   \n",
      "\n",
      "                              pickup_address  \\\n",
      "0  N Ashland Ave, Chicago, IL 60614-1101, US   \n",
      "\n",
      "                       dropoff_address earnings-surge  earnings/second  \\\n",
      "0  W Madison St, Chicago, IL 60612, US          10.72         0.011213   \n",
      "\n",
      "   earnings/mile  pickup_zipcode  dropoff_zipcode  \n",
      "0       2.748718           60614          60612.0  \n",
      "\n",
      "[1 rows x 21 columns]\n",
      "(3657, 21)\n"
     ]
    }
   ],
   "source": [
    "import pandas as pd\n",
    "\n",
    "rides_df = pd.read_json('enriched_rides.json')\n",
    "\n",
    "print(rides_df.head(1))\n",
    "\n",
    "print(rides_df.shape)"
   ]
  },
  {
   "cell_type": "code",
   "execution_count": 3,
   "id": "7d851c90-77fc-4b4e-a53c-0cb7f09256fd",
   "metadata": {},
   "outputs": [
    {
     "name": "stdout",
     "output_type": "stream",
     "text": [
      "Time spent driving other people: 43 days, 17 hours, 59 minutes, 5 seconds\n",
      "Number of days actually worked: 321\n",
      "Average hours worked per day: 3.2709804430598823\n",
      "Average mph: 15.84023047954399\n",
      "Average miles traveled per day: 51.813084112149454\n"
     ]
    }
   ],
   "source": [
    "import datetime\n",
    "total_duration = sum([r['duration'] for r in rides])\n",
    "total_distance = sum([r['distance'] for r in rides])\n",
    "\n",
    "time_delta = datetime.timedelta(seconds=total_duration)\n",
    "days = time_delta.days\n",
    "hours, remainder = divmod(time_delta.seconds, 3600)\n",
    "minutes, seconds = divmod(remainder, 60)\n",
    "\n",
    "# How many hours per day spent in the car, on average?\n",
    "days_worked = len(set([ride['date'] for ride in rides]))\n",
    "hours_worked_per_day = (total_duration / 3600) / days_worked\n",
    "\n",
    "\n",
    "print(f\"Time spent driving other people: {days} days, {hours} hours, {minutes} minutes, {seconds} seconds\")\n",
    "print(f\"Number of days actually worked: {days_worked}\")\n",
    "print(f\"Average hours worked per day: {hours_worked_per_day}\")\n",
    "print(f\"Average mph: {total_distance / (total_duration / 3600) }\")\n",
    "print(f\"Average miles traveled per day: {total_distance / days_worked}\")"
   ]
  },
  {
   "cell_type": "code",
   "execution_count": 6,
   "id": "0b5682ae-ef42-47a0-872b-5481507144f0",
   "metadata": {},
   "outputs": [
    {
     "name": "stdout",
     "output_type": "stream",
     "text": [
      "Total earned in 2024:\n",
      "24085.180000000066\n",
      "Total tips earned in 2024:\n",
      "3282.549999999999\n",
      "Last trip date recorded:\n",
      "2024-08-19\n"
     ]
    }
   ],
   "source": [
    "print(\"Total earned in 2024:\")\n",
    "print(f\"{sum([ride['earnings'] for ride in rides if '2024' in ride['date']])}\")\n",
    "print(\"Total tips earned in 2024:\")\n",
    "print(f\"{sum([ride['tip'] for ride in rides if '2024' in ride['date']])}\")\n",
    "print(\"Last trip date recorded:\")\n",
    "print(f\"{rides[-1]['date']}\")"
   ]
  },
  {
   "cell_type": "code",
   "execution_count": 13,
   "id": "95017d97-d58d-41b4-83f3-fa4148969bc4",
   "metadata": {},
   "outputs": [
    {
     "data": {
      "text/plain": [
       "defaultdict(<function __main__.<lambda>()>,\n",
       "            {1: 3631.58,\n",
       "             2: 2507.3799999999987,\n",
       "             3: 3903.1400000000012,\n",
       "             4: 2933.590000000001,\n",
       "             5: 3723.7200000000034,\n",
       "             6: 2871.8700000000003,\n",
       "             7: 1263.3599999999994,\n",
       "             8: 3250.539999999999})"
      ]
     },
     "execution_count": 13,
     "metadata": {},
     "output_type": "execute_result"
    }
   ],
   "source": [
    "from collections import defaultdict\n",
    "earnings_per_month = defaultdict(lambda: 0)\n",
    "for ride in rides:\n",
    "    if '2024' in ride['date']:\n",
    "        month = int(ride['date'][5:7])\n",
    "        earnings_per_month[month] += ride['earnings']\n",
    "earnings_per_month"
   ]
  },
  {
   "cell_type": "code",
   "execution_count": null,
   "id": "d9857f78-323d-439f-ab28-333b3cb9acee",
   "metadata": {},
   "outputs": [],
   "source": []
  }
 ],
 "metadata": {
  "kernelspec": {
   "display_name": "Python 3 (ipykernel)",
   "language": "python",
   "name": "python3"
  },
  "language_info": {
   "codemirror_mode": {
    "name": "ipython",
    "version": 3
   },
   "file_extension": ".py",
   "mimetype": "text/x-python",
   "name": "python",
   "nbconvert_exporter": "python",
   "pygments_lexer": "ipython3",
   "version": "3.11.7"
  }
 },
 "nbformat": 4,
 "nbformat_minor": 5
}
